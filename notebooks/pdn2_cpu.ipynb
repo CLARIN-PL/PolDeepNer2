{
 "cells": [
  {
   "cell_type": "markdown",
   "source": [
    "[![Open In Colab](https://colab.research.google.com/assets/colab-badge.svg)](https://colab.research.google.com/github/CLARIN-PL/PolDeepNer2/blob/master/notebooks/pdn2_cpu.ipynb)\n",
    "\n",
    "# PolDeepNer2\n",
    "\n",
    "## About\n",
    "\n",
    "This notebook shows how to install PolDeepNer2 and use it to recognize named entities on a GPU using one of the pre-trained models.\n",
    "\n",
    "PolDeepNer2 home page: https://github.com/CLARIN-PL/PolDeepNer2\n",
    "\n",
    "## Contact\n",
    "\n",
    "Michał Marcińczuk [michal.marcinczuk@pwr.edu.pl], [marcinczuk@gmail.com]"
   ],
   "metadata": {
    "collapsed": false
   }
  },
  {
   "cell_type": "markdown",
   "source": [
    "## Installation"
   ],
   "metadata": {
    "collapsed": false
   }
  },
  {
   "cell_type": "code",
   "execution_count": null,
   "metadata": {
    "collapsed": true
   },
   "outputs": [],
   "source": [
    "!pip install https://pypi.clarin-pl.eu/packages/poldeepner2-0.4.1-py3-none-any.whl#md5=f7780fa6d1feac371fc635b940ecf156\n",
    "\n",
    "!python -m spacy download pl_core_news_sm\n",
    "!python -m spacy link pl_core_news_sm pl_core_news_sm -f"
   ]
  },
  {
   "cell_type": "markdown",
   "source": [
    "## Setup"
   ],
   "metadata": {
    "collapsed": false,
    "pycharm": {
     "name": "#%% md\n"
    }
   }
  },
  {
   "cell_type": "code",
   "execution_count": null,
   "outputs": [],
   "source": [
    "from poldeepner2 import models\n",
    "\n",
    "resources_path = \"tmp\"\n",
    "device = \"cpu\"\n",
    "\n",
    "sentences = [\"Marek Nowak z Politechniki Wrocławskiej mieszka przy ul. Sądeckiej.\",\n",
    "             \"#PoselAdamNowak Co Pan myśli na temat fuzji Orlenu i Lotosu?\"]\n",
    "\n",
    "def print_names(sentence, names):\n",
    "    print(sentence)\n",
    "    print(\"-\"*20)\n",
    "    for name in names:\n",
    "        name_range = \"%d:%d\" % (name.begin, name.end)\n",
    "        print(\"%-8s %-20s %s\" % (name_range, name.label, name.text))\n",
    "    print(\"\")"
   ],
   "metadata": {
    "collapsed": false,
    "pycharm": {
     "name": "#%%\n"
    }
   }
  },
  {
   "cell_type": "markdown",
   "source": [
    "## Named entity recognition\n",
    "\n",
    "### KPWr model (n82)\n",
    "\n",
    "The n82 model recognizes 82 categories of named entities."
   ],
   "metadata": {
    "collapsed": false,
    "pycharm": {
     "name": "#%% md\n"
    }
   }
  },
  {
   "cell_type": "code",
   "execution_count": null,
   "outputs": [],
   "source": [
    "ner_kpwr = models.load(\"kpwr-n82-base\", device=device, resources_path=resources_path)"
   ],
   "metadata": {
    "collapsed": false,
    "pycharm": {
     "name": "#%%\n"
    }
   }
  },
  {
   "cell_type": "code",
   "execution_count": null,
   "outputs": [],
   "source": [
    "%%time\n",
    "names = [ner_kpwr.process_text(sentence) for sentence in sentences]"
   ],
   "metadata": {
    "collapsed": false,
    "pycharm": {
     "name": "#%%\n"
    }
   }
  },
  {
   "cell_type": "code",
   "execution_count": null,
   "outputs": [],
   "source": [
    "for sentence, name_list in zip(sentences, names):\n",
    "  print_names(sentence, name_list)"
   ],
   "metadata": {
    "collapsed": false,
    "pycharm": {
     "name": "#%%\n"
    }
   }
  },
  {
   "cell_type": "markdown",
   "source": [
    "### NKJP model (PolEval 2018)\n",
    "\n",
    "The nkjp model recognizes seven fine-grained categories of named entities."
   ],
   "metadata": {
    "collapsed": false,
    "pycharm": {
     "name": "#%% md\n"
    }
   }
  },
  {
   "cell_type": "code",
   "execution_count": null,
   "outputs": [],
   "source": [
    "ner_nkjp = models.load(\"nkjp-base\", device=device, resources_path=resources_path)"
   ],
   "metadata": {
    "collapsed": false,
    "pycharm": {
     "name": "#%%\n"
    }
   }
  },
  {
   "cell_type": "code",
   "execution_count": null,
   "outputs": [],
   "source": [
    "%%time\n",
    "names = [ner_nkjp.process_text(sentence) for sentence in sentences]"
   ],
   "metadata": {
    "collapsed": false,
    "pycharm": {
     "name": "#%%\n"
    }
   }
  },
  {
   "cell_type": "code",
   "execution_count": null,
   "outputs": [],
   "source": [
    "for sentence, name_list in zip(sentences, names):\n",
    "  print_names(sentence, name_list)"
   ],
   "metadata": {
    "collapsed": false,
    "pycharm": {
     "name": "#%%\n"
    }
   }
  }
 ],
 "metadata": {
  "kernelspec": {
   "display_name": "Python 3",
   "language": "python",
   "name": "python3"
  },
  "language_info": {
   "codemirror_mode": {
    "name": "ipython",
    "version": 2
   },
   "file_extension": ".py",
   "mimetype": "text/x-python",
   "name": "python",
   "nbconvert_exporter": "python",
   "pygments_lexer": "ipython2",
   "version": "2.7.6"
  }
 },
 "nbformat": 4,
 "nbformat_minor": 0
}